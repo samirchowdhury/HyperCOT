{
 "cells": [
  {
   "cell_type": "markdown",
   "metadata": {},
   "source": [
    "### Computing a single HyperCOT distance "
   ]
  },
  {
   "cell_type": "code",
   "execution_count": 111,
   "metadata": {},
   "outputs": [
    {
     "name": "stdout",
     "output_type": "stream",
     "text": [
      "The autoreload extension is already loaded. To reload it, use:\n",
      "  %reload_ext autoreload\n"
     ]
    }
   ],
   "source": [
    "%load_ext autoreload\n",
    "%autoreload 2"
   ]
  },
  {
   "cell_type": "code",
   "execution_count": 112,
   "metadata": {},
   "outputs": [],
   "source": [
    "from cot import *\n",
    "from hypercot import *\n",
    "import pickle\n",
    "import hypernetx as hnx"
   ]
  },
  {
   "cell_type": "code",
   "execution_count": 113,
   "metadata": {},
   "outputs": [],
   "source": [
    "with open('data/simulated_hypergraphs.pkl','rb') as handle:\n",
    "    data = pickle.load(handle)"
   ]
  },
  {
   "cell_type": "code",
   "execution_count": 114,
   "metadata": {},
   "outputs": [
    {
     "data": {
      "text/plain": [
       "40"
      ]
     },
     "execution_count": 114,
     "metadata": {},
     "output_type": "execute_result"
    }
   ],
   "source": [
    "len(data)"
   ]
  },
  {
   "cell_type": "code",
   "execution_count": 115,
   "metadata": {},
   "outputs": [
    {
     "name": "stdout",
     "output_type": "stream",
     "text": [
      "(178, 697) (182, 647)\n"
     ]
    }
   ],
   "source": [
    "h0 = data[0]\n",
    "h1 = data[38]\n",
    "\n",
    "print(h0.shape,h1.shape)"
   ]
  },
  {
   "cell_type": "code",
   "execution_count": 116,
   "metadata": {},
   "outputs": [],
   "source": [
    "# Precompute a few things\n",
    "\n",
    "h0_dual = get_hgraph_dual(h0)\n",
    "h1_dual = get_hgraph_dual(h1)\n",
    "\n",
    "l0 = convert_to_line_graph(h0.incidence_dict)\n",
    "l1 = convert_to_line_graph(h1.incidence_dict)\n",
    "\n",
    "# Assume node weights are uniform\n",
    "# Obtain hyperedge weights using normalized sum of node degree\n",
    "v0 = get_v(h0.incidence_dict, h0_dual.incidence_dict)\n",
    "v1 = get_v(h1.incidence_dict, h1_dual.incidence_dict)\n",
    "\n",
    "# Obtain omega functions\n",
    "w0 = get_omega(h0,h0_dual,l0, 'jaccard_index')\n",
    "w1 = get_omega(h1,h1_dual,l1, 'jaccard_index')"
   ]
  },
  {
   "cell_type": "code",
   "execution_count": 117,
   "metadata": {},
   "outputs": [],
   "source": [
    "# Compute co-optimal transport\n",
    "Ts, Tv, cost, log = cot_numpy(w0, w1, v1=v0, v2=v1, niter=100,log=True,verbose = False)"
   ]
  },
  {
   "cell_type": "code",
   "execution_count": 118,
   "metadata": {},
   "outputs": [
    {
     "data": {
      "text/plain": [
       "18.871259191988457"
      ]
     },
     "execution_count": 118,
     "metadata": {},
     "output_type": "execute_result"
    }
   ],
   "source": [
    "cost"
   ]
  },
  {
   "cell_type": "code",
   "execution_count": null,
   "metadata": {},
   "outputs": [],
   "source": []
  }
 ],
 "metadata": {
  "kernelspec": {
   "display_name": "Python 3 (ipykernel)",
   "language": "python",
   "name": "python3"
  },
  "language_info": {
   "codemirror_mode": {
    "name": "ipython",
    "version": 3
   },
   "file_extension": ".py",
   "mimetype": "text/x-python",
   "name": "python",
   "nbconvert_exporter": "python",
   "pygments_lexer": "ipython3",
   "version": "3.9.7"
  }
 },
 "nbformat": 4,
 "nbformat_minor": 4
}
